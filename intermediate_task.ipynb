{
 "cells": [
  {
   "cell_type": "markdown",
   "id": "3f109aa5-1f44-493a-8d1c-17311d15f2b4",
   "metadata": {},
   "source": [
    "# 1- import packages and load data"
   ]
  },
  {
   "cell_type": "code",
   "execution_count": 1,
   "id": "e9c0b831-6f44-4d3e-ab1c-e04ea1049a43",
   "metadata": {
    "tags": []
   },
   "outputs": [],
   "source": [
    "import numpy as np\n",
    "import pandas as pd\n",
    "import matplotlib.pyplot as plt\n",
    "import seaborn as sns"
   ]
  },
  {
   "cell_type": "code",
   "execution_count": 2,
   "id": "a5d8430b-c0a7-4158-b0fe-79843bfb8d11",
   "metadata": {},
   "outputs": [
    {
     "name": "stderr",
     "output_type": "stream",
     "text": [
      "c:\\users\\microsoft\\appdata\\local\\programs\\python\\python38\\lib\\site-packages\\openpyxl\\worksheet\\_reader.py:329: UserWarning: Unknown extension is not supported and will be removed\n",
      "  warn(msg)\n"
     ]
    },
    {
     "data": {
      "text/html": [
       "<div>\n",
       "<style scoped>\n",
       "    .dataframe tbody tr th:only-of-type {\n",
       "        vertical-align: middle;\n",
       "    }\n",
       "\n",
       "    .dataframe tbody tr th {\n",
       "        vertical-align: top;\n",
       "    }\n",
       "\n",
       "    .dataframe thead th {\n",
       "        text-align: right;\n",
       "    }\n",
       "</style>\n",
       "<table border=\"1\" class=\"dataframe\">\n",
       "  <thead>\n",
       "    <tr style=\"text-align: right;\">\n",
       "      <th></th>\n",
       "      <th>Internal ID</th>\n",
       "      <th>Q1: GOING OUT?</th>\n",
       "      <th>Q2: GENDER</th>\n",
       "      <th>Q3: AGE</th>\n",
       "      <th>Q4: COUNTRY</th>\n",
       "      <th>Q5: STATE, PROVINCE, COUNTY, ETC</th>\n",
       "      <th>Q6 | 100 Grand Bar</th>\n",
       "      <th>Q6 | Anonymous brown globs that come in black and orange wrappers\\t(a.k.a. Mary Janes)</th>\n",
       "      <th>Q6 | Any full-sized candy bar</th>\n",
       "      <th>Q6 | Black Jacks</th>\n",
       "      <th>...</th>\n",
       "      <th>Q8: DESPAIR OTHER</th>\n",
       "      <th>Q9: OTHER COMMENTS</th>\n",
       "      <th>Q10: DRESS</th>\n",
       "      <th>Unnamed: 113</th>\n",
       "      <th>Q11: DAY</th>\n",
       "      <th>Q12: MEDIA [Daily Dish]</th>\n",
       "      <th>Q12: MEDIA [Science]</th>\n",
       "      <th>Q12: MEDIA [ESPN]</th>\n",
       "      <th>Q12: MEDIA [Yahoo]</th>\n",
       "      <th>Click Coordinates (x, y)</th>\n",
       "    </tr>\n",
       "  </thead>\n",
       "  <tbody>\n",
       "    <tr>\n",
       "      <th>0</th>\n",
       "      <td>90258773</td>\n",
       "      <td>NaN</td>\n",
       "      <td>NaN</td>\n",
       "      <td>NaN</td>\n",
       "      <td>NaN</td>\n",
       "      <td>NaN</td>\n",
       "      <td>NaN</td>\n",
       "      <td>NaN</td>\n",
       "      <td>NaN</td>\n",
       "      <td>NaN</td>\n",
       "      <td>...</td>\n",
       "      <td>NaN</td>\n",
       "      <td>NaN</td>\n",
       "      <td>NaN</td>\n",
       "      <td>NaN</td>\n",
       "      <td>NaN</td>\n",
       "      <td>NaN</td>\n",
       "      <td>NaN</td>\n",
       "      <td>NaN</td>\n",
       "      <td>NaN</td>\n",
       "      <td>NaN</td>\n",
       "    </tr>\n",
       "    <tr>\n",
       "      <th>1</th>\n",
       "      <td>90272821</td>\n",
       "      <td>No</td>\n",
       "      <td>Male</td>\n",
       "      <td>44</td>\n",
       "      <td>USA</td>\n",
       "      <td>NM</td>\n",
       "      <td>MEH</td>\n",
       "      <td>DESPAIR</td>\n",
       "      <td>JOY</td>\n",
       "      <td>MEH</td>\n",
       "      <td>...</td>\n",
       "      <td>NaN</td>\n",
       "      <td>Bottom line is Twix is really the only candy w...</td>\n",
       "      <td>White and gold</td>\n",
       "      <td>NaN</td>\n",
       "      <td>Sunday</td>\n",
       "      <td>NaN</td>\n",
       "      <td>1.0</td>\n",
       "      <td>NaN</td>\n",
       "      <td>NaN</td>\n",
       "      <td>(84, 25)</td>\n",
       "    </tr>\n",
       "    <tr>\n",
       "      <th>2</th>\n",
       "      <td>90272829</td>\n",
       "      <td>NaN</td>\n",
       "      <td>Male</td>\n",
       "      <td>49</td>\n",
       "      <td>USA</td>\n",
       "      <td>Virginia</td>\n",
       "      <td>NaN</td>\n",
       "      <td>NaN</td>\n",
       "      <td>NaN</td>\n",
       "      <td>NaN</td>\n",
       "      <td>...</td>\n",
       "      <td>NaN</td>\n",
       "      <td>NaN</td>\n",
       "      <td>NaN</td>\n",
       "      <td>NaN</td>\n",
       "      <td>NaN</td>\n",
       "      <td>NaN</td>\n",
       "      <td>NaN</td>\n",
       "      <td>NaN</td>\n",
       "      <td>NaN</td>\n",
       "      <td>NaN</td>\n",
       "    </tr>\n",
       "    <tr>\n",
       "      <th>3</th>\n",
       "      <td>90272840</td>\n",
       "      <td>No</td>\n",
       "      <td>Male</td>\n",
       "      <td>40</td>\n",
       "      <td>us</td>\n",
       "      <td>or</td>\n",
       "      <td>MEH</td>\n",
       "      <td>DESPAIR</td>\n",
       "      <td>JOY</td>\n",
       "      <td>MEH</td>\n",
       "      <td>...</td>\n",
       "      <td>NaN</td>\n",
       "      <td>Raisins can go to hell</td>\n",
       "      <td>White and gold</td>\n",
       "      <td>NaN</td>\n",
       "      <td>Sunday</td>\n",
       "      <td>NaN</td>\n",
       "      <td>1.0</td>\n",
       "      <td>NaN</td>\n",
       "      <td>NaN</td>\n",
       "      <td>(75, 23)</td>\n",
       "    </tr>\n",
       "    <tr>\n",
       "      <th>4</th>\n",
       "      <td>90272841</td>\n",
       "      <td>No</td>\n",
       "      <td>Male</td>\n",
       "      <td>23</td>\n",
       "      <td>usa</td>\n",
       "      <td>exton pa</td>\n",
       "      <td>JOY</td>\n",
       "      <td>DESPAIR</td>\n",
       "      <td>JOY</td>\n",
       "      <td>DESPAIR</td>\n",
       "      <td>...</td>\n",
       "      <td>NaN</td>\n",
       "      <td>NaN</td>\n",
       "      <td>White and gold</td>\n",
       "      <td>NaN</td>\n",
       "      <td>Friday</td>\n",
       "      <td>NaN</td>\n",
       "      <td>1.0</td>\n",
       "      <td>NaN</td>\n",
       "      <td>NaN</td>\n",
       "      <td>(70, 10)</td>\n",
       "    </tr>\n",
       "  </tbody>\n",
       "</table>\n",
       "<p>5 rows × 120 columns</p>\n",
       "</div>"
      ],
      "text/plain": [
       "   Internal ID Q1: GOING OUT? Q2: GENDER Q3: AGE Q4: COUNTRY   \n",
       "0     90258773            NaN        NaN     NaN         NaN  \\\n",
       "1     90272821             No       Male      44        USA    \n",
       "2     90272829            NaN       Male      49         USA   \n",
       "3     90272840             No       Male      40          us   \n",
       "4     90272841             No       Male      23         usa   \n",
       "\n",
       "  Q5: STATE, PROVINCE, COUNTY, ETC Q6 | 100 Grand Bar   \n",
       "0                              NaN                NaN  \\\n",
       "1                               NM                MEH   \n",
       "2                         Virginia                NaN   \n",
       "3                               or                MEH   \n",
       "4                         exton pa                JOY   \n",
       "\n",
       "  Q6 | Anonymous brown globs that come in black and orange wrappers\\t(a.k.a. Mary Janes)   \n",
       "0                                                NaN                                      \\\n",
       "1                                            DESPAIR                                       \n",
       "2                                                NaN                                       \n",
       "3                                            DESPAIR                                       \n",
       "4                                            DESPAIR                                       \n",
       "\n",
       "  Q6 | Any full-sized candy bar Q6 | Black Jacks  ... Q8: DESPAIR OTHER   \n",
       "0                           NaN              NaN  ...               NaN  \\\n",
       "1                           JOY              MEH  ...               NaN   \n",
       "2                           NaN              NaN  ...               NaN   \n",
       "3                           JOY              MEH  ...               NaN   \n",
       "4                           JOY          DESPAIR  ...               NaN   \n",
       "\n",
       "                                  Q9: OTHER COMMENTS      Q10: DRESS   \n",
       "0                                                NaN             NaN  \\\n",
       "1  Bottom line is Twix is really the only candy w...  White and gold   \n",
       "2                                                NaN             NaN   \n",
       "3                             Raisins can go to hell  White and gold   \n",
       "4                                                NaN  White and gold   \n",
       "\n",
       "  Unnamed: 113 Q11: DAY Q12: MEDIA [Daily Dish] Q12: MEDIA [Science]   \n",
       "0          NaN      NaN                     NaN                  NaN  \\\n",
       "1          NaN   Sunday                     NaN                  1.0   \n",
       "2          NaN      NaN                     NaN                  NaN   \n",
       "3          NaN   Sunday                     NaN                  1.0   \n",
       "4          NaN   Friday                     NaN                  1.0   \n",
       "\n",
       "  Q12: MEDIA [ESPN] Q12: MEDIA [Yahoo] Click Coordinates (x, y)  \n",
       "0               NaN                NaN                      NaN  \n",
       "1               NaN                NaN                 (84, 25)  \n",
       "2               NaN                NaN                      NaN  \n",
       "3               NaN                NaN                 (75, 23)  \n",
       "4               NaN                NaN                 (70, 10)  \n",
       "\n",
       "[5 rows x 120 columns]"
      ]
     },
     "execution_count": 2,
     "metadata": {},
     "output_type": "execute_result"
    }
   ],
   "source": [
    "data = pd.read_excel(\"candyhierarchy2017.xlsx\")\n",
    "data.head()"
   ]
  },
  {
   "cell_type": "markdown",
   "id": "b69d6c68-f447-4c2b-b2f7-9ca78256755c",
   "metadata": {},
   "source": [
    "# 2- show some general properties for the data "
   ]
  },
  {
   "cell_type": "code",
   "execution_count": 3,
   "id": "8f22b35b-17ca-4745-b326-c5d2c7ba0340",
   "metadata": {
    "tags": []
   },
   "outputs": [
    {
     "data": {
      "text/plain": [
       "(2460, 120)"
      ]
     },
     "execution_count": 3,
     "metadata": {},
     "output_type": "execute_result"
    }
   ],
   "source": [
    "data.shape"
   ]
  },
  {
   "cell_type": "code",
   "execution_count": 4,
   "id": "505eb8f1-3159-40e1-b19d-ef8fd7e26955",
   "metadata": {
    "tags": []
   },
   "outputs": [
    {
     "name": "stdout",
     "output_type": "stream",
     "text": [
      "<class 'pandas.core.frame.DataFrame'>\n",
      "RangeIndex: 2460 entries, 0 to 2459\n",
      "Columns: 120 entries, Internal ID to Click Coordinates (x, y)\n",
      "dtypes: float64(4), int64(1), object(115)\n",
      "memory usage: 2.3+ MB\n"
     ]
    }
   ],
   "source": [
    "data.info()"
   ]
  },
  {
   "cell_type": "code",
   "execution_count": 5,
   "id": "6e671136-bbf1-4f66-803f-3abb2e9dddc8",
   "metadata": {
    "tags": []
   },
   "outputs": [
    {
     "data": {
      "text/plain": [
       "Internal ID                                                                                int64\n",
       "Q1: GOING OUT?                                                                            object\n",
       "Q2: GENDER                                                                                object\n",
       "Q3: AGE                                                                                   object\n",
       "Q4: COUNTRY                                                                               object\n",
       "Q5: STATE, PROVINCE, COUNTY, ETC                                                          object\n",
       "Q6 | 100 Grand Bar                                                                        object\n",
       "Q6 | Anonymous brown globs that come in black and orange wrappers\\t(a.k.a. Mary Janes)    object\n",
       "Q6 | Any full-sized candy bar                                                             object\n",
       "Q6 | Black Jacks                                                                          object\n",
       "Q6 | Bonkers (the candy)                                                                  object\n",
       "Q6 | Bonkers (the board game)                                                             object\n",
       "Q6 | Bottle Caps                                                                          object\n",
       "Q6 | Box'o'Raisins                                                                        object\n",
       "Q6 | Broken glow stick                                                                    object\n",
       "Q6 | Butterfinger                                                                         object\n",
       "Q6 | Cadbury Creme Eggs                                                                   object\n",
       "Q6 | Candy Corn                                                                           object\n",
       "Q6 | Candy that is clearly just the stuff given out for free at restaurants               object\n",
       "Q6 | Caramellos                                                                           object\n",
       "Q6 | Cash, or other forms of legal tender                                                 object\n",
       "Q6 | Chardonnay                                                                           object\n",
       "Q6 | Chick-o-Sticks (we don’t know what that is)                                          object\n",
       "Q6 | Chiclets                                                                             object\n",
       "Q6 | Coffee Crisp                                                                         object\n",
       "Q6 | Creepy Religious comics/Chick Tracts                                                 object\n",
       "Q6 | Dental paraphenalia                                                                  object\n",
       "Q6 | Dots                                                                                 object\n",
       "Q6 | Dove Bars                                                                            object\n",
       "Q6 | Fuzzy Peaches                                                                        object\n",
       "Q6 | Generic Brand Acetaminophen                                                          object\n",
       "Q6 | Glow sticks                                                                          object\n",
       "Q6 | Goo Goo Clusters                                                                     object\n",
       "Q6 | Good N' Plenty                                                                       object\n",
       "Q6 | Gum from baseball cards                                                              object\n",
       "Q6 | Gummy Bears straight up                                                              object\n",
       "Q6 | Hard Candy                                                                           object\n",
       "Q6 | Healthy Fruit                                                                        object\n",
       "Q6 | Heath Bar                                                                            object\n",
       "Q6 | Hershey's Dark Chocolate                                                             object\n",
       "Q6 | Hershey’s Milk Chocolate                                                             object\n",
       "Q6 | Hershey's Kisses                                                                     object\n",
       "Q6 | Hugs (actual physical hugs)                                                          object\n",
       "Q6 | Jolly Rancher (bad flavor)                                                           object\n",
       "Q6 | Jolly Ranchers (good flavor)                                                         object\n",
       "Q6 | JoyJoy (Mit Iodine!)                                                                 object\n",
       "Q6 | Junior Mints                                                                         object\n",
       "Q6 | Senior Mints                                                                         object\n",
       "Q6 | Kale smoothie                                                                        object\n",
       "Q6 | Kinder Happy Hippo                                                                   object\n",
       "dtype: object"
      ]
     },
     "execution_count": 5,
     "metadata": {},
     "output_type": "execute_result"
    }
   ],
   "source": [
    "data.dtypes.head(50)"
   ]
  },
  {
   "cell_type": "code",
   "execution_count": 6,
   "id": "8bf28901-2f90-43c6-9ed7-d87d545c8666",
   "metadata": {
    "tags": []
   },
   "outputs": [
    {
     "data": {
      "text/plain": [
       "Q6 | Mint Kisses                                                                object\n",
       "Q6 | Mint Juleps                                                                object\n",
       "Q6 | Mr. Goodbar                                                                object\n",
       "Q6 | Necco Wafers                                                               object\n",
       "Q6 | Nerds                                                                      object\n",
       "Q6 | Nestle Crunch                                                              object\n",
       "Q6 | Now'n'Laters                                                               object\n",
       "Q6 | Peeps                                                                      object\n",
       "Q6 | Pencils                                                                    object\n",
       "Q6 | Pixy Stix                                                                  object\n",
       "Q6 | Real Housewives of Orange County Season 9 Blue-Ray                         object\n",
       "Q6 | Reese’s Peanut Butter Cups                                                 object\n",
       "Q6 | Reese's Pieces                                                             object\n",
       "Q6 | Reggie Jackson Bar                                                         object\n",
       "Q6 | Rolos                                                                      object\n",
       "Q6 | Sandwich-sized bags filled with BooBerry Crunch                            object\n",
       "Q6 | Skittles                                                                   object\n",
       "Q6 | Smarties (American)                                                        object\n",
       "Q6 | Smarties (Commonwealth)                                                    object\n",
       "Q6 | Snickers                                                                   object\n",
       "Q6 | Sourpatch Kids (i.e. abominations of nature)                               object\n",
       "Q6 | Spotted Dick                                                               object\n",
       "Q6 | Starburst                                                                  object\n",
       "Q6 | Sweet Tarts                                                                object\n",
       "Q6 | Swedish Fish                                                               object\n",
       "Q6 | Sweetums (a friend to diabetes)                                            object\n",
       "Q6 | Take 5                                                                     object\n",
       "Q6 | Tic Tacs                                                                   object\n",
       "Q6 | Those odd marshmallow circus peanut things                                 object\n",
       "Q6 | Three Musketeers                                                           object\n",
       "Q6 | Tolberone something or other                                               object\n",
       "Q6 | Trail Mix                                                                  object\n",
       "Q6 | Twix                                                                       object\n",
       "Q6 | Vials of pure high fructose corn syrup, for main-lining into your vein     object\n",
       "Q6 | Vicodin                                                                    object\n",
       "Q6 | Whatchamacallit Bars                                                       object\n",
       "Q6 | White Bread                                                                object\n",
       "Q6 | Whole Wheat anything                                                       object\n",
       "Q6 | York Peppermint Patties                                                    object\n",
       "Q7: JOY OTHER                                                                   object\n",
       "Q8: DESPAIR OTHER                                                               object\n",
       "Q9: OTHER COMMENTS                                                              object\n",
       "Q10: DRESS                                                                      object\n",
       "Unnamed: 113                                                                    object\n",
       "Q11: DAY                                                                        object\n",
       "Q12: MEDIA [Daily Dish]                                                        float64\n",
       "Q12: MEDIA [Science]                                                           float64\n",
       "Q12: MEDIA [ESPN]                                                              float64\n",
       "Q12: MEDIA [Yahoo]                                                             float64\n",
       "Click Coordinates (x, y)                                                        object\n",
       "dtype: object"
      ]
     },
     "execution_count": 6,
     "metadata": {},
     "output_type": "execute_result"
    }
   ],
   "source": [
    "data.dtypes.tail(50)"
   ]
  },
  {
   "cell_type": "code",
   "execution_count": 7,
   "id": "a14d4209-d845-4631-8d30-e0046b631f29",
   "metadata": {
    "tags": []
   },
   "outputs": [
    {
     "data": {
      "text/plain": [
       "Internal ID                                                                                  0\n",
       "Q1: GOING OUT?                                                                             110\n",
       "Q2: GENDER                                                                                  41\n",
       "Q3: AGE                                                                                     84\n",
       "Q4: COUNTRY                                                                                 64\n",
       "Q5: STATE, PROVINCE, COUNTY, ETC                                                           100\n",
       "Q6 | 100 Grand Bar                                                                         747\n",
       "Q6 | Anonymous brown globs that come in black and orange wrappers\\t(a.k.a. Mary Janes)     734\n",
       "Q6 | Any full-sized candy bar                                                              672\n",
       "Q6 | Black Jacks                                                                           958\n",
       "Q6 | Bonkers (the candy)                                                                   992\n",
       "Q6 | Bonkers (the board game)                                                             1006\n",
       "Q6 | Bottle Caps                                                                           765\n",
       "Q6 | Box'o'Raisins                                                                         688\n",
       "Q6 | Broken glow stick                                                                     706\n",
       "Q6 | Butterfinger                                                                          682\n",
       "Q6 | Cadbury Creme Eggs                                                                    683\n",
       "Q6 | Candy Corn                                                                            678\n",
       "Q6 | Candy that is clearly just the stuff given out for free at restaurants                691\n",
       "Q6 | Caramellos                                                                            752\n",
       "Q6 | Cash, or other forms of legal tender                                                  680\n",
       "Q6 | Chardonnay                                                                            743\n",
       "Q6 | Chick-o-Sticks (we don’t know what that is)                                           946\n",
       "Q6 | Chiclets                                                                              711\n",
       "Q6 | Coffee Crisp                                                                          853\n",
       "Q6 | Creepy Religious comics/Chick Tracts                                                  704\n",
       "Q6 | Dental paraphenalia                                                                   692\n",
       "Q6 | Dots                                                                                  729\n",
       "Q6 | Dove Bars                                                                             702\n",
       "Q6 | Fuzzy Peaches                                                                         823\n",
       "Q6 | Generic Brand Acetaminophen                                                           731\n",
       "Q6 | Glow sticks                                                                           697\n",
       "Q6 | Goo Goo Clusters                                                                      879\n",
       "Q6 | Good N' Plenty                                                                        734\n",
       "Q6 | Gum from baseball cards                                                               716\n",
       "Q6 | Gummy Bears straight up                                                               697\n",
       "Q6 | Hard Candy                                                                            695\n",
       "Q6 | Healthy Fruit                                                                         694\n",
       "Q6 | Heath Bar                                                                             712\n",
       "Q6 | Hershey's Dark Chocolate                                                              673\n",
       "Q6 | Hershey’s Milk Chocolate                                                              672\n",
       "Q6 | Hershey's Kisses                                                                      678\n",
       "Q6 | Hugs (actual physical hugs)                                                           713\n",
       "Q6 | Jolly Rancher (bad flavor)                                                            694\n",
       "Q6 | Jolly Ranchers (good flavor)                                                          695\n",
       "Q6 | JoyJoy (Mit Iodine!)                                                                 1026\n",
       "Q6 | Junior Mints                                                                          698\n",
       "Q6 | Senior Mints                                                                          942\n",
       "Q6 | Kale smoothie                                                                         744\n",
       "Q6 | Kinder Happy Hippo                                                                    945\n",
       "dtype: int64"
      ]
     },
     "execution_count": 7,
     "metadata": {},
     "output_type": "execute_result"
    }
   ],
   "source": [
    "data.isnull().sum().head(50)"
   ]
  },
  {
   "cell_type": "code",
   "execution_count": 8,
   "id": "ba5b7cd9-3252-4744-83f9-31af0340b13b",
   "metadata": {
    "tags": []
   },
   "outputs": [
    {
     "data": {
      "text/plain": [
       "Q6 | Mint Kisses                                                                776\n",
       "Q6 | Mint Juleps                                                                811\n",
       "Q6 | Mr. Goodbar                                                                740\n",
       "Q6 | Necco Wafers                                                               744\n",
       "Q6 | Nerds                                                                      723\n",
       "Q6 | Nestle Crunch                                                              698\n",
       "Q6 | Now'n'Laters                                                               817\n",
       "Q6 | Peeps                                                                      710\n",
       "Q6 | Pencils                                                                    709\n",
       "Q6 | Pixy Stix                                                                  722\n",
       "Q6 | Real Housewives of Orange County Season 9 Blue-Ray                         753\n",
       "Q6 | Reese’s Peanut Butter Cups                                                 679\n",
       "Q6 | Reese's Pieces                                                             691\n",
       "Q6 | Reggie Jackson Bar                                                        1014\n",
       "Q6 | Rolos                                                                      714\n",
       "Q6 | Sandwich-sized bags filled with BooBerry Crunch                            776\n",
       "Q6 | Skittles                                                                   706\n",
       "Q6 | Smarties (American)                                                        725\n",
       "Q6 | Smarties (Commonwealth)                                                    901\n",
       "Q6 | Snickers                                                                   690\n",
       "Q6 | Sourpatch Kids (i.e. abominations of nature)                               738\n",
       "Q6 | Spotted Dick                                                               882\n",
       "Q6 | Starburst                                                                  693\n",
       "Q6 | Sweet Tarts                                                                708\n",
       "Q6 | Swedish Fish                                                               715\n",
       "Q6 | Sweetums (a friend to diabetes)                                           1002\n",
       "Q6 | Take 5                                                                     917\n",
       "Q6 | Tic Tacs                                                                   714\n",
       "Q6 | Those odd marshmallow circus peanut things                                 736\n",
       "Q6 | Three Musketeers                                                           708\n",
       "Q6 | Tolberone something or other                                               706\n",
       "Q6 | Trail Mix                                                                  708\n",
       "Q6 | Twix                                                                       690\n",
       "Q6 | Vials of pure high fructose corn syrup, for main-lining into your vein     792\n",
       "Q6 | Vicodin                                                                    789\n",
       "Q6 | Whatchamacallit Bars                                                       823\n",
       "Q6 | White Bread                                                                757\n",
       "Q6 | Whole Wheat anything                                                       747\n",
       "Q6 | York Peppermint Patties                                                    705\n",
       "Q7: JOY OTHER                                                                  1549\n",
       "Q8: DESPAIR OTHER                                                              1743\n",
       "Q9: OTHER COMMENTS                                                             2074\n",
       "Q10: DRESS                                                                      744\n",
       "Unnamed: 113                                                                   2451\n",
       "Q11: DAY                                                                        725\n",
       "Q12: MEDIA [Daily Dish]                                                        2375\n",
       "Q12: MEDIA [Science]                                                           1098\n",
       "Q12: MEDIA [ESPN]                                                              2361\n",
       "Q12: MEDIA [Yahoo]                                                             2393\n",
       "Click Coordinates (x, y)                                                        855\n",
       "dtype: int64"
      ]
     },
     "execution_count": 8,
     "metadata": {},
     "output_type": "execute_result"
    }
   ],
   "source": [
    "data.isnull().sum().tail(50)"
   ]
  },
  {
   "cell_type": "markdown",
   "id": "bc0c47a9-262e-48fe-9f31-16b764bcbd1a",
   "metadata": {},
   "source": [
    "# 3- write summary about what you get form the above functions"
   ]
  },
  {
   "cell_type": "markdown",
   "id": "4b753034-f392-4c18-920e-85128b4b8919",
   "metadata": {},
   "source": [
    "**we have 2460 rows and 120 columns, AGE column has a wrong data type it should be int, all columns have null values we should handle it**"
   ]
  },
  {
   "cell_type": "markdown",
   "id": "87d0c971-1da5-4a3f-8644-c4b1c4c9bfad",
   "metadata": {},
   "source": [
    "# cleaning"
   ]
  },
  {
   "cell_type": "markdown",
   "id": "f641aded-12ef-43eb-bc0b-4c226abb0772",
   "metadata": {},
   "source": [
    "## rename columns name"
   ]
  },
  {
   "cell_type": "code",
   "execution_count": 9,
   "id": "aa7caa5e-925c-4ae7-9d88-ab90146d0818",
   "metadata": {
    "tags": []
   },
   "outputs": [],
   "source": [
    "import re"
   ]
  },
  {
   "cell_type": "code",
   "execution_count": 10,
   "id": "edc785e0-e24e-4022-9215-39d3d799ae01",
   "metadata": {
    "tags": []
   },
   "outputs": [],
   "source": [
    "def rename_cols(col):\n",
    "    pattern=r\"^\\w+\\s+(\\|)?\\s+\"\n",
    "    regex=re.compile(pattern)\n",
    "    new_col=regex.sub(\"\",col)\n",
    "    return new_col "
   ]
  },
  {
   "cell_type": "code",
   "execution_count": 11,
   "id": "8ebdc5a9-8eb2-41ea-a488-fcbf989939c9",
   "metadata": {
    "tags": []
   },
   "outputs": [
    {
     "data": {
      "text/plain": [
       "['Internal ID',\n",
       " 'Q1: GOING OUT?',\n",
       " 'Q2: GENDER',\n",
       " 'Q3: AGE',\n",
       " 'Q4: COUNTRY',\n",
       " 'Q5: STATE, PROVINCE, COUNTY, ETC',\n",
       " '100 Grand Bar',\n",
       " 'Anonymous brown globs that come in black and orange wrappers\\t(a.k.a. Mary Janes)',\n",
       " 'Any full-sized candy bar',\n",
       " 'Black Jacks',\n",
       " 'Bonkers (the candy)',\n",
       " 'Bonkers (the board game)',\n",
       " 'Bottle Caps',\n",
       " \"Box'o'Raisins\",\n",
       " 'Broken glow stick',\n",
       " 'Butterfinger',\n",
       " 'Cadbury Creme Eggs',\n",
       " 'Candy Corn',\n",
       " 'Candy that is clearly just the stuff given out for free at restaurants',\n",
       " 'Caramellos',\n",
       " 'Cash, or other forms of legal tender',\n",
       " 'Chardonnay',\n",
       " 'Chick-o-Sticks (we don’t know what that is)',\n",
       " 'Chiclets',\n",
       " 'Coffee Crisp',\n",
       " 'Creepy Religious comics/Chick Tracts',\n",
       " 'Dental paraphenalia',\n",
       " 'Dots',\n",
       " 'Dove Bars',\n",
       " 'Fuzzy Peaches',\n",
       " 'Generic Brand Acetaminophen',\n",
       " 'Glow sticks',\n",
       " 'Goo Goo Clusters',\n",
       " \"Good N' Plenty\",\n",
       " 'Gum from baseball cards',\n",
       " 'Gummy Bears straight up',\n",
       " 'Hard Candy',\n",
       " 'Healthy Fruit',\n",
       " 'Heath Bar',\n",
       " \"Hershey's Dark Chocolate\",\n",
       " 'Hershey’s Milk Chocolate',\n",
       " \"Hershey's Kisses\",\n",
       " 'Hugs (actual physical hugs)',\n",
       " 'Jolly Rancher (bad flavor)',\n",
       " 'Jolly Ranchers (good flavor)',\n",
       " 'JoyJoy (Mit Iodine!)',\n",
       " 'Junior Mints',\n",
       " 'Senior Mints',\n",
       " 'Kale smoothie',\n",
       " 'Kinder Happy Hippo',\n",
       " 'Kit Kat',\n",
       " 'LaffyTaffy',\n",
       " 'LemonHeads',\n",
       " 'Licorice (not black)',\n",
       " 'Licorice (yes black)',\n",
       " 'Lindt Truffle',\n",
       " 'Lollipops',\n",
       " 'Mars',\n",
       " 'Maynards',\n",
       " 'Mike and Ike',\n",
       " 'Milk Duds',\n",
       " 'Milky Way',\n",
       " 'Regular M&Ms',\n",
       " 'Peanut M&M’s',\n",
       " \"Blue M&M's\",\n",
       " \"Red M&M's\",\n",
       " \"Green Party M&M's\",\n",
       " \"Independent M&M's\",\n",
       " \"Abstained from M&M'ing.\",\n",
       " 'Minibags of chips',\n",
       " 'Mint Kisses',\n",
       " 'Mint Juleps',\n",
       " 'Mr. Goodbar',\n",
       " 'Necco Wafers',\n",
       " 'Nerds',\n",
       " 'Nestle Crunch',\n",
       " \"Now'n'Laters\",\n",
       " 'Peeps',\n",
       " 'Pencils',\n",
       " 'Pixy Stix',\n",
       " 'Real Housewives of Orange County Season 9 Blue-Ray',\n",
       " 'Reese’s Peanut Butter Cups',\n",
       " \"Reese's Pieces\",\n",
       " 'Reggie Jackson Bar',\n",
       " 'Rolos',\n",
       " 'Sandwich-sized bags filled with BooBerry Crunch',\n",
       " 'Skittles',\n",
       " 'Smarties (American)',\n",
       " 'Smarties (Commonwealth)',\n",
       " 'Snickers',\n",
       " 'Sourpatch Kids (i.e. abominations of nature)',\n",
       " 'Spotted Dick',\n",
       " 'Starburst',\n",
       " 'Sweet Tarts',\n",
       " 'Swedish Fish',\n",
       " 'Sweetums (a friend to diabetes)',\n",
       " 'Take 5',\n",
       " 'Tic Tacs',\n",
       " 'Those odd marshmallow circus peanut things',\n",
       " 'Three Musketeers',\n",
       " 'Tolberone something or other',\n",
       " 'Trail Mix',\n",
       " 'Twix',\n",
       " 'Vials of pure high fructose corn syrup, for main-lining into your vein',\n",
       " 'Vicodin',\n",
       " 'Whatchamacallit Bars',\n",
       " 'White Bread',\n",
       " 'Whole Wheat anything',\n",
       " 'York Peppermint Patties',\n",
       " 'Q7: JOY OTHER',\n",
       " 'Q8: DESPAIR OTHER',\n",
       " 'Q9: OTHER COMMENTS',\n",
       " 'Q10: DRESS',\n",
       " 'Unnamed: 113',\n",
       " 'Q11: DAY',\n",
       " 'Q12: MEDIA [Daily Dish]',\n",
       " 'Q12: MEDIA [Science]',\n",
       " 'Q12: MEDIA [ESPN]',\n",
       " 'Q12: MEDIA [Yahoo]',\n",
       " 'Click Coordinates (x, y)']"
      ]
     },
     "execution_count": 11,
     "metadata": {},
     "output_type": "execute_result"
    }
   ],
   "source": [
    "columns=data.columns.to_list()\n",
    "new_cols=[]\n",
    "for i in range(len(columns)):\n",
    "    new_col=rename_cols(columns[i])\n",
    "    new_cols.append(new_col)\n",
    "new_cols"
   ]
  },
  {
   "cell_type": "code",
   "execution_count": 12,
   "id": "86762586-44e4-426e-9d0d-7b41715036d0",
   "metadata": {
    "tags": []
   },
   "outputs": [],
   "source": [
    "copy_data=data.copy()"
   ]
  },
  {
   "cell_type": "code",
   "execution_count": 13,
   "id": "08c4baa9-7d93-4972-84f5-1c6e48b6647e",
   "metadata": {
    "tags": []
   },
   "outputs": [],
   "source": [
    "new_cols[1:6]=['GOING OUT','GENDER','AGE','COUNTRY','STATE']"
   ]
  },
  {
   "cell_type": "code",
   "execution_count": 14,
   "id": "c7f68669-b3cb-4c11-88a6-db971ba86f98",
   "metadata": {
    "tags": []
   },
   "outputs": [],
   "source": [
    "new_cols[-6:-1]=['DAY','Daily Dish','Science','ESPN','Yahoo']"
   ]
  },
  {
   "cell_type": "code",
   "execution_count": 15,
   "id": "553f058f-32ff-4403-91ae-44716e573f6d",
   "metadata": {
    "tags": []
   },
   "outputs": [],
   "source": [
    "new_cols[-11:-7]=['JOY OTHER','DESPAIR OTHER','OTHER COMMENTS','DRESS']"
   ]
  },
  {
   "cell_type": "code",
   "execution_count": 16,
   "id": "be799b6e-ecf6-4ebc-9030-69ad5d5c0bee",
   "metadata": {
    "tags": []
   },
   "outputs": [],
   "source": [
    "copy_data.columns=new_cols"
   ]
  },
  {
   "cell_type": "code",
   "execution_count": 17,
   "id": "21eb0ffd-37b7-4dea-b335-1d5034cee81c",
   "metadata": {
    "tags": []
   },
   "outputs": [
    {
     "data": {
      "text/plain": [
       "Index(['Internal ID', 'GOING OUT', 'GENDER', 'AGE', 'COUNTRY', 'STATE',\n",
       "       '100 Grand Bar',\n",
       "       'Anonymous brown globs that come in black and orange wrappers\\t(a.k.a. Mary Janes)',\n",
       "       'Any full-sized candy bar', 'Black Jacks',\n",
       "       ...\n",
       "       'DESPAIR OTHER', 'OTHER COMMENTS', 'DRESS', 'Unnamed: 113', 'DAY',\n",
       "       'Daily Dish', 'Science', 'ESPN', 'Yahoo', 'Click Coordinates (x, y)'],\n",
       "      dtype='object', length=120)"
      ]
     },
     "execution_count": 17,
     "metadata": {},
     "output_type": "execute_result"
    }
   ],
   "source": [
    "copy_data.columns"
   ]
  },
  {
   "cell_type": "code",
   "execution_count": 18,
   "id": "2d99a23d-1213-481f-8c73-75d32147dc88",
   "metadata": {
    "tags": []
   },
   "outputs": [
    {
     "data": {
      "text/plain": [
       "Internal ID                      90273334\n",
       "GOING OUT                             Yes\n",
       "GENDER                               Male\n",
       "AGE                                    34\n",
       "COUNTRY                     United States\n",
       "                                ...      \n",
       "Daily Dish                            NaN\n",
       "Science                               NaN\n",
       "ESPN                                  NaN\n",
       "Yahoo                                 NaN\n",
       "Click Coordinates (x, y)              NaN\n",
       "Name: 213, Length: 120, dtype: object"
      ]
     },
     "execution_count": 18,
     "metadata": {},
     "output_type": "execute_result"
    }
   ],
   "source": [
    "copy_data.sample(1).iloc[0]"
   ]
  },
  {
   "cell_type": "code",
   "execution_count": 19,
   "id": "de302eb4-9bf5-429e-a8d0-c2ecf2e209bc",
   "metadata": {
    "tags": []
   },
   "outputs": [
    {
     "data": {
      "text/plain": [
       "Internal ID                                                                          2460\n",
       "GOING OUT                                                                               2\n",
       "GENDER                                                                                  4\n",
       "AGE                                                                                   106\n",
       "COUNTRY                                                                               128\n",
       "STATE                                                                                 511\n",
       "100 Grand Bar                                                                           3\n",
       "Anonymous brown globs that come in black and orange wrappers\\t(a.k.a. Mary Janes)       3\n",
       "Any full-sized candy bar                                                                3\n",
       "Black Jacks                                                                             3\n",
       "dtype: int64"
      ]
     },
     "execution_count": 19,
     "metadata": {},
     "output_type": "execute_result"
    }
   ],
   "source": [
    "copy_data.nunique()[:10]"
   ]
  },
  {
   "cell_type": "markdown",
   "id": "093c973f-9a47-4d40-ab77-3d3b702bbde2",
   "metadata": {},
   "source": [
    "## clean country column"
   ]
  },
  {
   "cell_type": "code",
   "execution_count": 20,
   "id": "321b34e0-21e7-4b56-92e6-a8d0252b2918",
   "metadata": {
    "tags": []
   },
   "outputs": [
    {
     "data": {
      "text/plain": [
       "array([nan, 'USA ', 'USA', 'us', 'usa', 'canada', 'Canada', 'Us', 'US',\n",
       "       'Murica', 'United States', 'uk', 'United Kingdom', 'united states',\n",
       "       'Usa', 'United States ', 'United staes',\n",
       "       'United States of America', 'UAE', 'England', 'UK', 'canada ',\n",
       "       'Mexico', 'United states', 'u.s.a.', 'USAUSAUSA', 'america', 35,\n",
       "       'france', 'United States of America ', 'U.S.A.', 'finland',\n",
       "       'unhinged states', 'Canada ', 'united states of america',\n",
       "       'US of A', 'Unites States', 'The United States', 'North Carolina ',\n",
       "       'Unied States', 'Netherlands', 'germany', 'Europe', 'Earth', 'U S',\n",
       "       'u.s.', 'U.K. ', 'Costa Rica', 'The United States of America',\n",
       "       'unite states'], dtype=object)"
      ]
     },
     "execution_count": 20,
     "metadata": {},
     "output_type": "execute_result"
    }
   ],
   "source": [
    "copy_data['COUNTRY'].unique()[:50]"
   ]
  },
  {
   "cell_type": "code",
   "execution_count": 21,
   "id": "d1cb6832-1686-4319-bf10-5ed402d05b90",
   "metadata": {
    "tags": []
   },
   "outputs": [],
   "source": [
    "copy_data['COUNTRY']=copy_data['COUNTRY'].str.lower()"
   ]
  },
  {
   "cell_type": "code",
   "execution_count": 22,
   "id": "36e50f64-024c-45d0-a9e6-235ee09f6301",
   "metadata": {
    "tags": []
   },
   "outputs": [],
   "source": [
    "copy_data['STATE']=copy_data['STATE'].str.lower()"
   ]
  },
  {
   "cell_type": "code",
   "execution_count": 23,
   "id": "9efcbe9c-252a-4590-9be0-b7f9c604bd3c",
   "metadata": {
    "tags": []
   },
   "outputs": [
    {
     "data": {
      "text/plain": [
       "COUNTRY     99\n",
       "STATE      378\n",
       "dtype: int64"
      ]
     },
     "execution_count": 23,
     "metadata": {},
     "output_type": "execute_result"
    }
   ],
   "source": [
    "copy_data[['COUNTRY','STATE']].nunique()"
   ]
  },
  {
   "cell_type": "code",
   "execution_count": 24,
   "id": "3abfa959-76b4-4393-b6f7-822be1a4ac74",
   "metadata": {
    "tags": []
   },
   "outputs": [],
   "source": [
    "copy_data['COUNTRY']=copy_data['COUNTRY'].str.strip()\n",
    "copy_data['STATE']=copy_data['STATE'].str.strip()"
   ]
  },
  {
   "cell_type": "code",
   "execution_count": 25,
   "id": "d1b66024-43a0-47e7-81ff-cf8fd244faf3",
   "metadata": {
    "tags": []
   },
   "outputs": [
    {
     "data": {
      "text/plain": [
       "COUNTRY     90\n",
       "STATE      329\n",
       "dtype: int64"
      ]
     },
     "execution_count": 25,
     "metadata": {},
     "output_type": "execute_result"
    }
   ],
   "source": [
    "copy_data[['COUNTRY','STATE']].nunique()"
   ]
  },
  {
   "cell_type": "code",
   "execution_count": 26,
   "id": "5dbf4639-60f6-4947-b231-182113273982",
   "metadata": {
    "tags": []
   },
   "outputs": [
    {
     "data": {
      "text/plain": [
       "array([nan, 'usa', 'us', 'canada', 'murica', 'united states', 'uk',\n",
       "       'united kingdom', 'united staes', 'united states of america',\n",
       "       'uae', 'england', 'mexico', 'u.s.a.', 'usausausa', 'america',\n",
       "       'france', 'finland', 'unhinged states', 'us of a', 'unites states',\n",
       "       'the united states', 'north carolina', 'unied states',\n",
       "       'netherlands', 'germany', 'europe', 'earth', 'u s', 'u.s.', 'u.k.',\n",
       "       'costa rica', 'the united states of america', 'unite states',\n",
       "       'cascadia', 'australia', 'insanity lately', 'greece',\n",
       "       'usa? hard to tell anymore..', \"'merica\", 'usas', 'pittsburgh',\n",
       "       'united state', 'a', 'can', 'canae', 'new york', 'trumpistan',\n",
       "       'ireland', 'united sates'], dtype=object)"
      ]
     },
     "execution_count": 26,
     "metadata": {},
     "output_type": "execute_result"
    }
   ],
   "source": [
    "copy_data['COUNTRY'].unique()[:50]"
   ]
  },
  {
   "cell_type": "code",
   "execution_count": 27,
   "id": "e752c45c-2623-45af-b7a7-9214a364143e",
   "metadata": {
    "tags": []
   },
   "outputs": [],
   "source": [
    "usa_dict={\n",
    "    'us':'usa',\n",
    "    'murica':'usa',\n",
    "    'united staes':'usa',\n",
    "    'united states of america':'usa',\n",
    "    'u.s.a.':'usa', \n",
    "    'usausausa':'usa', \n",
    "    'america':'usa',\n",
    "    'unhinged states':'usa', \n",
    "    'us of a':'usa',\n",
    "    'unites states':'usa',\n",
    "    'the united states':'usa',\n",
    "    'unied states':'usa',\n",
    "    'u s':'usa', \n",
    "    'u.s.':'usa',\n",
    "    'the united states of america':'usa',\n",
    "    'unite states':'usa',\n",
    "    'usa? hard to tell anymore..':'usa',\n",
    "    \"'merica\":'usa', 'usas':'usa',\n",
    "    'united state':'usa', 'a':'usa',\n",
    "    'new york':'usa','united sates':'usa',\n",
    "    'united states':'usa','california':'usa',\n",
    "    'i pretend to be from canada, but i am really from the united states.':'usa',\n",
    "    'united stated':'usa',\n",
    "    'ahem....amerca':'usa','ud':'usa',\n",
    "    'new jersey':'usa','united ststes':'usa',\n",
    "    'atlantis':'usa', 'murrika':'usa', 'usa! usa! usa!':'usa', 'usaa':'usa',\n",
    "    'u s a':'usa', 'united statea':'usa',\n",
    "    'usa usa usa!!!!':'usa',\n",
    "    'alaska':'usa', 'soviet canuckistan':'usa', 'n. america':'usa',\n",
    "    'ussa':'usa','united statss':'usa',\n",
    "    'north carolina':'usa','trumpistan':'usa',\n",
    "    'cascadia':'usa'\n",
    "}"
   ]
  },
  {
   "cell_type": "code",
   "execution_count": 28,
   "id": "5177d058-cbd1-4bac-9182-c81700901487",
   "metadata": {
    "tags": []
   },
   "outputs": [],
   "source": [
    "copy_data['COUNTRY']=copy_data['COUNTRY'].replace(usa_dict)"
   ]
  },
  {
   "cell_type": "code",
   "execution_count": 29,
   "id": "293113e8-2cb9-41fe-bb7a-1fb49a34b22d",
   "metadata": {
    "tags": []
   },
   "outputs": [
    {
     "data": {
      "text/plain": [
       "44"
      ]
     },
     "execution_count": 29,
     "metadata": {},
     "output_type": "execute_result"
    }
   ],
   "source": [
    "copy_data['COUNTRY'].nunique()"
   ]
  },
  {
   "cell_type": "code",
   "execution_count": 30,
   "id": "5740aae4-a446-4d75-93d1-a74073f3cd0a",
   "metadata": {
    "tags": []
   },
   "outputs": [
    {
     "data": {
      "text/plain": [
       "array([nan, 'usa', 'canada', 'uk', 'united kingdom', 'uae', 'england',\n",
       "       'mexico', 'france', 'finland', 'netherlands', 'germany', 'europe',\n",
       "       'earth', 'u.k.', 'costa rica', 'australia', 'insanity lately',\n",
       "       'greece', 'pittsburgh', 'can', 'canae', 'ireland', 'korea',\n",
       "       'japan', 'south africa', 'iceland', 'canada`', 'scotland',\n",
       "       'denmark', 'switzerland', 'south korea', 'indonesia',\n",
       "       'the netherlands', 'endland', 'singapore', 'china', 'taiwan',\n",
       "       'hong kong', 'spain', 'sweden', 'narnia',\n",
       "       'subscribe to dm4uz3 on youtube', \"i don't know anymore\",\n",
       "       'fear and loathing'], dtype=object)"
      ]
     },
     "execution_count": 30,
     "metadata": {},
     "output_type": "execute_result"
    }
   ],
   "source": [
    "copy_data['COUNTRY'].unique()"
   ]
  },
  {
   "cell_type": "code",
   "execution_count": 31,
   "id": "dfcbd5f1-a6e8-4079-a4a0-389f26651e43",
   "metadata": {
    "tags": []
   },
   "outputs": [],
   "source": [
    "copy_data['COUNTRY']=copy_data['COUNTRY'].replace({'endland':'uk'\n",
    "                              ,'united kingdom':'uk',\n",
    "                              'narnia':'uk',\n",
    "                              'england':'uk',\n",
    "                               'u.k.':'uk',\n",
    "                                'endland':'uk'})"
   ]
  },
  {
   "cell_type": "code",
   "execution_count": 32,
   "id": "d410c2b1-f83e-4296-b004-4ed4b038ee13",
   "metadata": {
    "tags": []
   },
   "outputs": [],
   "source": [
    "copy_data['COUNTRY']=copy_data['COUNTRY'].replace({\n",
    "        'insanity lately':\"\",\n",
    "        'pittsburgh':\"\",\n",
    "        'subscribe to dm4uz3 on youtube':\"\", \n",
    "        \"i don't know anymore\":\"\",\n",
    "       'fear and loathing':\"\"\n",
    "})"
   ]
  },
  {
   "cell_type": "code",
   "execution_count": 33,
   "id": "ae3070c1-1a57-424c-af39-3fa2ac70cdc6",
   "metadata": {
    "tags": []
   },
   "outputs": [],
   "source": [
    "copy_data['COUNTRY']=copy_data['COUNTRY'].replace({\n",
    "    'can':\"canada\", 'canae':'canada','canada`':'canada'\n",
    "})"
   ]
  },
  {
   "cell_type": "code",
   "execution_count": 34,
   "id": "253743c5-40de-4c8f-8d1d-08b03ef0a345",
   "metadata": {
    "tags": []
   },
   "outputs": [],
   "source": [
    "copy_data['COUNTRY']=copy_data['COUNTRY'].replace({'hong kong':'china'})"
   ]
  },
  {
   "cell_type": "code",
   "execution_count": 35,
   "id": "5d70a229-c184-4b9b-8c59-a8d49a2c766e",
   "metadata": {
    "tags": []
   },
   "outputs": [
    {
     "data": {
      "text/plain": [
       "31"
      ]
     },
     "execution_count": 35,
     "metadata": {},
     "output_type": "execute_result"
    }
   ],
   "source": [
    "copy_data['COUNTRY'].nunique()"
   ]
  },
  {
   "cell_type": "code",
   "execution_count": 36,
   "id": "3327d129-356e-4b9b-a51c-b6d82cbbbfbe",
   "metadata": {
    "tags": []
   },
   "outputs": [
    {
     "data": {
      "text/plain": [
       "array([nan, 'usa', 'canada', 'uk', 'uae', 'mexico', 'france', 'finland',\n",
       "       'netherlands', 'germany', 'europe', 'earth', 'costa rica',\n",
       "       'australia', '', 'greece', 'ireland', 'korea', 'japan',\n",
       "       'south africa', 'iceland', 'scotland', 'denmark', 'switzerland',\n",
       "       'south korea', 'indonesia', 'the netherlands', 'singapore',\n",
       "       'china', 'taiwan', 'spain', 'sweden'], dtype=object)"
      ]
     },
     "execution_count": 36,
     "metadata": {},
     "output_type": "execute_result"
    }
   ],
   "source": [
    "copy_data['COUNTRY'].unique()"
   ]
  },
  {
   "cell_type": "markdown",
   "id": "116ea42e-0a2e-4126-aa3a-658e445b70c6",
   "metadata": {},
   "source": [
    "## clean AGE column"
   ]
  },
  {
   "cell_type": "code",
   "execution_count": 37,
   "id": "51a244ac-c820-49d9-9b8f-557e33dc2a1a",
   "metadata": {
    "tags": []
   },
   "outputs": [
    {
     "data": {
      "text/plain": [
       "array([nan, 44, 49, 40, 23, 53, 33, 43, 56, 64, 37, 59, 48, 54, 36, 45,\n",
       "       25, 34, 35, 38, 58, 50, 47, 16, 52, 63, 65, 41, 27, 31, 61, 46, 42,\n",
       "       62, 29, 39, 32, 28, 69, 67, 30, 22, 26, 51, 70, 24, 18, 19,\n",
       "       'Old enough', 57, 60, 66, 12, 'Many', 55, 72, '?', 21, 11, 'no', 9,\n",
       "       68, 20, 6, 10, 71, 90, 13, '45-55', 312, 99, 7, 'hahahahaha', 88,\n",
       "       39.4, 74, 102, 'older than dirt', 17, 15, 8, 75, '5u', 'Enough',\n",
       "       'See question 2', '24-50', 14, 'Over 50', 100, 76, 1000,\n",
       "       'sixty-nine', '46 Halloweens.', 'ancient', 77, 'OLD', 'old', 73,\n",
       "       70.5, 1, 'MY NAME JEFF', 4, '59 on the day after Halloween',\n",
       "       'old enough', 'your mom',\n",
       "       'I can remember when Java was a cool new language', '60+'],\n",
       "      dtype=object)"
      ]
     },
     "execution_count": 37,
     "metadata": {},
     "output_type": "execute_result"
    }
   ],
   "source": [
    "copy_data['AGE'].unique()"
   ]
  },
  {
   "cell_type": "code",
   "execution_count": 38,
   "id": "54a4d13b-45df-44c2-acf3-386402d654d4",
   "metadata": {
    "tags": []
   },
   "outputs": [],
   "source": [
    "copy_data['AGE']=copy_data['AGE'].replace({\n",
    "    'Old enough':'',\n",
    "    '45-55':'50',\n",
    "    'hahahahaha':\"\",\n",
    "    '312':'31',\n",
    "    'older than dirt':\"\",\n",
    "    'Enough':\"\",\n",
    "    '5u':'50',\n",
    "    'sixty-nine':'69',\n",
    "    'OLD':'', 'old':'',\n",
    "    'ancient':'','46 Halloweens.':'46','Many':'',\n",
    "    'Over 50':'51','MY NAME JEFF':'',\n",
    "    '59 on the day after Halloween':'59',\n",
    "    'old enough':'', 'your mom':\"\",\n",
    "    'I can remember when Java was a cool new language':\"\", '60+':'61',\n",
    "    'See question 2':\"\",'24-50':\"37\"\n",
    "    \n",
    "})"
   ]
  },
  {
   "cell_type": "code",
   "execution_count": 39,
   "id": "e5027538-be16-4fe9-98f6-5687688b18cf",
   "metadata": {
    "tags": []
   },
   "outputs": [],
   "source": [
    "copy_data['AGE']=copy_data['AGE'].replace({'':np.nan})"
   ]
  },
  {
   "cell_type": "code",
   "execution_count": 40,
   "id": "cde471c7-1f32-4e62-b5f7-fa76a50de194",
   "metadata": {
    "tags": []
   },
   "outputs": [],
   "source": [
    "copy_data['AGE']=copy_data['AGE'].replace({'?':np.nan})"
   ]
  },
  {
   "cell_type": "code",
   "execution_count": 41,
   "id": "a5ecf3cc-86b9-440b-8712-e9dbfd8d9ff6",
   "metadata": {
    "tags": []
   },
   "outputs": [],
   "source": [
    "copy_data['AGE']=copy_data['AGE'].replace({'no':np.nan})"
   ]
  },
  {
   "cell_type": "code",
   "execution_count": 42,
   "id": "0d58f87d-7c45-4a98-a629-bfcccb048d55",
   "metadata": {
    "tags": []
   },
   "outputs": [],
   "source": [
    "copy_data['AGE']=copy_data['AGE'].astype('float')"
   ]
  },
  {
   "cell_type": "code",
   "execution_count": 43,
   "id": "97cf7645-ca65-4908-92d9-f8b6c2d6392d",
   "metadata": {
    "tags": []
   },
   "outputs": [
    {
     "data": {
      "text/plain": [
       "count    2360.000000\n",
       "mean       42.652076\n",
       "std        23.819607\n",
       "min         1.000000\n",
       "25%        34.000000\n",
       "50%        41.500000\n",
       "75%        50.000000\n",
       "max      1000.000000\n",
       "Name: AGE, dtype: float64"
      ]
     },
     "execution_count": 43,
     "metadata": {},
     "output_type": "execute_result"
    }
   ],
   "source": [
    "copy_data['AGE'].describe()"
   ]
  },
  {
   "cell_type": "code",
   "execution_count": 44,
   "id": "0e8b4bf5-c1b2-47ab-a64f-4531315f40e5",
   "metadata": {
    "tags": []
   },
   "outputs": [],
   "source": [
    "iqr=50-34\n",
    "mask=(copy_data['AGE']<(50+1.5*iqr)) & (copy_data['AGE']>(34-1.5*iqr))"
   ]
  },
  {
   "cell_type": "code",
   "execution_count": 45,
   "id": "e27a2e0b-589e-46e3-995e-f55495d17f4a",
   "metadata": {
    "tags": []
   },
   "outputs": [],
   "source": [
    "copy_data=copy_data.loc[mask]"
   ]
  },
  {
   "cell_type": "code",
   "execution_count": 46,
   "id": "8a25c0fb-06c5-4145-9810-d142fbe540f0",
   "metadata": {
    "tags": []
   },
   "outputs": [
    {
     "data": {
      "text/html": [
       "<div>\n",
       "<style scoped>\n",
       "    .dataframe tbody tr th:only-of-type {\n",
       "        vertical-align: middle;\n",
       "    }\n",
       "\n",
       "    .dataframe tbody tr th {\n",
       "        vertical-align: top;\n",
       "    }\n",
       "\n",
       "    .dataframe thead th {\n",
       "        text-align: right;\n",
       "    }\n",
       "</style>\n",
       "<table border=\"1\" class=\"dataframe\">\n",
       "  <thead>\n",
       "    <tr style=\"text-align: right;\">\n",
       "      <th></th>\n",
       "      <th>Internal ID</th>\n",
       "      <th>GOING OUT</th>\n",
       "      <th>GENDER</th>\n",
       "      <th>AGE</th>\n",
       "      <th>COUNTRY</th>\n",
       "      <th>STATE</th>\n",
       "      <th>100 Grand Bar</th>\n",
       "      <th>Anonymous brown globs that come in black and orange wrappers\\t(a.k.a. Mary Janes)</th>\n",
       "      <th>Any full-sized candy bar</th>\n",
       "      <th>Black Jacks</th>\n",
       "      <th>...</th>\n",
       "      <th>DESPAIR OTHER</th>\n",
       "      <th>OTHER COMMENTS</th>\n",
       "      <th>DRESS</th>\n",
       "      <th>Unnamed: 113</th>\n",
       "      <th>DAY</th>\n",
       "      <th>Daily Dish</th>\n",
       "      <th>Science</th>\n",
       "      <th>ESPN</th>\n",
       "      <th>Yahoo</th>\n",
       "      <th>Click Coordinates (x, y)</th>\n",
       "    </tr>\n",
       "  </thead>\n",
       "  <tbody>\n",
       "    <tr>\n",
       "      <th>1</th>\n",
       "      <td>90272821</td>\n",
       "      <td>No</td>\n",
       "      <td>Male</td>\n",
       "      <td>44.0</td>\n",
       "      <td>usa</td>\n",
       "      <td>nm</td>\n",
       "      <td>MEH</td>\n",
       "      <td>DESPAIR</td>\n",
       "      <td>JOY</td>\n",
       "      <td>MEH</td>\n",
       "      <td>...</td>\n",
       "      <td>NaN</td>\n",
       "      <td>Bottom line is Twix is really the only candy w...</td>\n",
       "      <td>White and gold</td>\n",
       "      <td>NaN</td>\n",
       "      <td>Sunday</td>\n",
       "      <td>NaN</td>\n",
       "      <td>1.0</td>\n",
       "      <td>NaN</td>\n",
       "      <td>NaN</td>\n",
       "      <td>(84, 25)</td>\n",
       "    </tr>\n",
       "    <tr>\n",
       "      <th>2</th>\n",
       "      <td>90272829</td>\n",
       "      <td>NaN</td>\n",
       "      <td>Male</td>\n",
       "      <td>49.0</td>\n",
       "      <td>usa</td>\n",
       "      <td>virginia</td>\n",
       "      <td>NaN</td>\n",
       "      <td>NaN</td>\n",
       "      <td>NaN</td>\n",
       "      <td>NaN</td>\n",
       "      <td>...</td>\n",
       "      <td>NaN</td>\n",
       "      <td>NaN</td>\n",
       "      <td>NaN</td>\n",
       "      <td>NaN</td>\n",
       "      <td>NaN</td>\n",
       "      <td>NaN</td>\n",
       "      <td>NaN</td>\n",
       "      <td>NaN</td>\n",
       "      <td>NaN</td>\n",
       "      <td>NaN</td>\n",
       "    </tr>\n",
       "    <tr>\n",
       "      <th>3</th>\n",
       "      <td>90272840</td>\n",
       "      <td>No</td>\n",
       "      <td>Male</td>\n",
       "      <td>40.0</td>\n",
       "      <td>usa</td>\n",
       "      <td>or</td>\n",
       "      <td>MEH</td>\n",
       "      <td>DESPAIR</td>\n",
       "      <td>JOY</td>\n",
       "      <td>MEH</td>\n",
       "      <td>...</td>\n",
       "      <td>NaN</td>\n",
       "      <td>Raisins can go to hell</td>\n",
       "      <td>White and gold</td>\n",
       "      <td>NaN</td>\n",
       "      <td>Sunday</td>\n",
       "      <td>NaN</td>\n",
       "      <td>1.0</td>\n",
       "      <td>NaN</td>\n",
       "      <td>NaN</td>\n",
       "      <td>(75, 23)</td>\n",
       "    </tr>\n",
       "    <tr>\n",
       "      <th>4</th>\n",
       "      <td>90272841</td>\n",
       "      <td>No</td>\n",
       "      <td>Male</td>\n",
       "      <td>23.0</td>\n",
       "      <td>usa</td>\n",
       "      <td>exton pa</td>\n",
       "      <td>JOY</td>\n",
       "      <td>DESPAIR</td>\n",
       "      <td>JOY</td>\n",
       "      <td>DESPAIR</td>\n",
       "      <td>...</td>\n",
       "      <td>NaN</td>\n",
       "      <td>NaN</td>\n",
       "      <td>White and gold</td>\n",
       "      <td>NaN</td>\n",
       "      <td>Friday</td>\n",
       "      <td>NaN</td>\n",
       "      <td>1.0</td>\n",
       "      <td>NaN</td>\n",
       "      <td>NaN</td>\n",
       "      <td>(70, 10)</td>\n",
       "    </tr>\n",
       "    <tr>\n",
       "      <th>6</th>\n",
       "      <td>90272853</td>\n",
       "      <td>No</td>\n",
       "      <td>Male</td>\n",
       "      <td>53.0</td>\n",
       "      <td>usa</td>\n",
       "      <td>colorado</td>\n",
       "      <td>NaN</td>\n",
       "      <td>NaN</td>\n",
       "      <td>NaN</td>\n",
       "      <td>NaN</td>\n",
       "      <td>...</td>\n",
       "      <td>NaN</td>\n",
       "      <td>NaN</td>\n",
       "      <td>NaN</td>\n",
       "      <td>NaN</td>\n",
       "      <td>NaN</td>\n",
       "      <td>NaN</td>\n",
       "      <td>NaN</td>\n",
       "      <td>NaN</td>\n",
       "      <td>NaN</td>\n",
       "      <td>NaN</td>\n",
       "    </tr>\n",
       "  </tbody>\n",
       "</table>\n",
       "<p>5 rows × 120 columns</p>\n",
       "</div>"
      ],
      "text/plain": [
       "   Internal ID GOING OUT GENDER   AGE COUNTRY     STATE 100 Grand Bar   \n",
       "1     90272821        No   Male  44.0     usa        nm           MEH  \\\n",
       "2     90272829       NaN   Male  49.0     usa  virginia           NaN   \n",
       "3     90272840        No   Male  40.0     usa        or           MEH   \n",
       "4     90272841        No   Male  23.0     usa  exton pa           JOY   \n",
       "6     90272853        No   Male  53.0     usa  colorado           NaN   \n",
       "\n",
       "  Anonymous brown globs that come in black and orange wrappers\\t(a.k.a. Mary Janes)   \n",
       "1                                            DESPAIR                                 \\\n",
       "2                                                NaN                                  \n",
       "3                                            DESPAIR                                  \n",
       "4                                            DESPAIR                                  \n",
       "6                                                NaN                                  \n",
       "\n",
       "  Any full-sized candy bar Black Jacks  ... DESPAIR OTHER   \n",
       "1                      JOY         MEH  ...           NaN  \\\n",
       "2                      NaN         NaN  ...           NaN   \n",
       "3                      JOY         MEH  ...           NaN   \n",
       "4                      JOY     DESPAIR  ...           NaN   \n",
       "6                      NaN         NaN  ...           NaN   \n",
       "\n",
       "                                      OTHER COMMENTS           DRESS   \n",
       "1  Bottom line is Twix is really the only candy w...  White and gold  \\\n",
       "2                                                NaN             NaN   \n",
       "3                             Raisins can go to hell  White and gold   \n",
       "4                                                NaN  White and gold   \n",
       "6                                                NaN             NaN   \n",
       "\n",
       "  Unnamed: 113     DAY Daily Dish Science ESPN Yahoo Click Coordinates (x, y)  \n",
       "1          NaN  Sunday        NaN     1.0  NaN   NaN                 (84, 25)  \n",
       "2          NaN     NaN        NaN     NaN  NaN   NaN                      NaN  \n",
       "3          NaN  Sunday        NaN     1.0  NaN   NaN                 (75, 23)  \n",
       "4          NaN  Friday        NaN     1.0  NaN   NaN                 (70, 10)  \n",
       "6          NaN     NaN        NaN     NaN  NaN   NaN                      NaN  \n",
       "\n",
       "[5 rows x 120 columns]"
      ]
     },
     "execution_count": 46,
     "metadata": {},
     "output_type": "execute_result"
    }
   ],
   "source": [
    "copy_data.head()"
   ]
  },
  {
   "cell_type": "markdown",
   "id": "87663f4a-83d7-4913-a25d-0321a5eebc63",
   "metadata": {},
   "source": [
    "## dealing with missing values"
   ]
  },
  {
   "cell_type": "code",
   "execution_count": 47,
   "id": "6e30ee82-4d4b-4fc2-8e1f-5e249365ba53",
   "metadata": {
    "tags": []
   },
   "outputs": [],
   "source": [
    "mode1=copy_data['COUNTRY'].mode()[0]"
   ]
  },
  {
   "cell_type": "code",
   "execution_count": 48,
   "id": "ee310174-61f3-4022-a350-7df0301fba69",
   "metadata": {
    "tags": []
   },
   "outputs": [],
   "source": [
    "copy_data['COUNTRY'].fillna(mode1,inplace=True)"
   ]
  },
  {
   "cell_type": "code",
   "execution_count": 49,
   "id": "4ed54b48-49b5-434f-adf4-93f8ed657f95",
   "metadata": {
    "tags": []
   },
   "outputs": [
    {
     "data": {
      "text/plain": [
       "0"
      ]
     },
     "execution_count": 49,
     "metadata": {},
     "output_type": "execute_result"
    }
   ],
   "source": [
    "copy_data.duplicated().sum()"
   ]
  },
  {
   "cell_type": "code",
   "execution_count": 50,
   "id": "c5d46581-27fb-4466-97fd-9460eae623e4",
   "metadata": {
    "tags": []
   },
   "outputs": [],
   "source": [
    "copy_data.drop(columns=['ESPN','Yahoo','JOY OTHER','OTHER COMMENTS','DESPAIR OTHER','Unnamed: 113','Daily Dish','Science'],inplace=True)"
   ]
  },
  {
   "cell_type": "code",
   "execution_count": 51,
   "id": "6507279a-6634-428b-9d97-28b738328064",
   "metadata": {
    "tags": []
   },
   "outputs": [
    {
     "data": {
      "text/plain": [
       "array(['No', nan, 'Yes'], dtype=object)"
      ]
     },
     "execution_count": 51,
     "metadata": {},
     "output_type": "execute_result"
    }
   ],
   "source": [
    "copy_data['GOING OUT'].unique()"
   ]
  },
  {
   "cell_type": "code",
   "execution_count": 52,
   "id": "e946e3c0-f6b1-4f5d-b56b-2b23f3f28f29",
   "metadata": {
    "tags": []
   },
   "outputs": [
    {
     "data": {
      "text/plain": [
       "83"
      ]
     },
     "execution_count": 52,
     "metadata": {},
     "output_type": "execute_result"
    }
   ],
   "source": [
    "copy_data['GOING OUT'].isnull().sum()"
   ]
  },
  {
   "cell_type": "code",
   "execution_count": 53,
   "id": "78820737-eca8-4dec-923b-9ec0ea4534b1",
   "metadata": {
    "tags": []
   },
   "outputs": [
    {
     "data": {
      "text/plain": [
       "GOING OUT\n",
       "No     1962\n",
       "Yes     284\n",
       "Name: count, dtype: int64"
      ]
     },
     "execution_count": 53,
     "metadata": {},
     "output_type": "execute_result"
    }
   ],
   "source": [
    "copy_data['GOING OUT'].value_counts()"
   ]
  },
  {
   "cell_type": "code",
   "execution_count": 54,
   "id": "3ce3a590-452b-4913-af6c-4046399c458e",
   "metadata": {
    "tags": []
   },
   "outputs": [],
   "source": [
    "copy_data['GOING OUT'].fillna('No',inplace=True)"
   ]
  },
  {
   "cell_type": "code",
   "execution_count": 55,
   "id": "8409efc0-7c7b-42a7-80fe-d6481551b509",
   "metadata": {
    "tags": []
   },
   "outputs": [
    {
     "data": {
      "text/plain": [
       "array(['Male', 'Female', \"I'd rather not say\", nan, 'Other'], dtype=object)"
      ]
     },
     "execution_count": 55,
     "metadata": {},
     "output_type": "execute_result"
    }
   ],
   "source": [
    "copy_data['GENDER'].unique()"
   ]
  },
  {
   "cell_type": "code",
   "execution_count": 56,
   "id": "0a2ece35-eed1-49d4-98ee-c98c13ff4df4",
   "metadata": {
    "tags": []
   },
   "outputs": [
    {
     "data": {
      "text/plain": [
       "GENDER\n",
       "Male                  1417\n",
       "Female                 816\n",
       "I'd rather not say      63\n",
       "Other                   26\n",
       "Name: count, dtype: int64"
      ]
     },
     "execution_count": 56,
     "metadata": {},
     "output_type": "execute_result"
    }
   ],
   "source": [
    "copy_data['GENDER'].value_counts()"
   ]
  },
  {
   "cell_type": "code",
   "execution_count": 57,
   "id": "318f7475-bdfc-4e19-920d-dbefa196ac0b",
   "metadata": {
    "tags": []
   },
   "outputs": [
    {
     "data": {
      "text/plain": [
       "7"
      ]
     },
     "execution_count": 57,
     "metadata": {},
     "output_type": "execute_result"
    }
   ],
   "source": [
    "copy_data['GENDER'].isnull().sum()"
   ]
  },
  {
   "cell_type": "code",
   "execution_count": 58,
   "id": "70f9fd49-6884-40c7-a5a5-486eb8edb0dd",
   "metadata": {
    "tags": []
   },
   "outputs": [],
   "source": [
    "copy_data['GENDER'].fillna('Other',inplace=True)"
   ]
  },
  {
   "cell_type": "code",
   "execution_count": 59,
   "id": "6f6110c8-d543-420d-8efc-ca4767edced8",
   "metadata": {
    "tags": []
   },
   "outputs": [],
   "source": [
    "copy_data['AGE']=copy_data['AGE'].astype('int')"
   ]
  },
  {
   "cell_type": "code",
   "execution_count": 60,
   "id": "f2817f0b-edf2-4766-bfdb-eb2ecd902d5a",
   "metadata": {
    "tags": []
   },
   "outputs": [
    {
     "data": {
      "text/plain": [
       "Index(['Internal ID', 'GOING OUT', 'GENDER', 'AGE', 'COUNTRY', 'STATE',\n",
       "       '100 Grand Bar',\n",
       "       'Anonymous brown globs that come in black and orange wrappers\\t(a.k.a. Mary Janes)',\n",
       "       'Any full-sized candy bar', 'Black Jacks',\n",
       "       ...\n",
       "       'Twix',\n",
       "       'Vials of pure high fructose corn syrup, for main-lining into your vein',\n",
       "       'Vicodin', 'Whatchamacallit Bars', 'White Bread',\n",
       "       'Whole Wheat anything', 'York Peppermint Patties', 'DRESS', 'DAY',\n",
       "       'Click Coordinates (x, y)'],\n",
       "      dtype='object', length=112)"
      ]
     },
     "execution_count": 60,
     "metadata": {},
     "output_type": "execute_result"
    }
   ],
   "source": [
    "copy_data.columns"
   ]
  },
  {
   "cell_type": "code",
   "execution_count": 61,
   "id": "50df3080-540b-44e7-9030-71aff4e513e9",
   "metadata": {
    "tags": []
   },
   "outputs": [
    {
     "data": {
      "text/plain": [
       "array(['Sunday', nan, 'Friday'], dtype=object)"
      ]
     },
     "execution_count": 61,
     "metadata": {},
     "output_type": "execute_result"
    }
   ],
   "source": [
    "copy_data['DAY'].unique()"
   ]
  },
  {
   "cell_type": "code",
   "execution_count": 62,
   "id": "1b1932ad-03ca-4fe3-bfae-d020e557e6a5",
   "metadata": {
    "tags": []
   },
   "outputs": [
    {
     "data": {
      "text/plain": [
       "DAY\n",
       "Friday    1049\n",
       "Sunday     617\n",
       "Name: count, dtype: int64"
      ]
     },
     "execution_count": 62,
     "metadata": {},
     "output_type": "execute_result"
    }
   ],
   "source": [
    "copy_data['DAY'].value_counts()"
   ]
  },
  {
   "cell_type": "code",
   "execution_count": 63,
   "id": "571442e1-4500-45d7-8e89-aeadcdd30a4c",
   "metadata": {
    "tags": []
   },
   "outputs": [
    {
     "data": {
      "text/plain": [
       "663"
      ]
     },
     "execution_count": 63,
     "metadata": {},
     "output_type": "execute_result"
    }
   ],
   "source": [
    "copy_data['DAY'].isnull().sum()"
   ]
  },
  {
   "cell_type": "code",
   "execution_count": 64,
   "id": "ca72bf54-bc0e-4e64-b4d0-61beba7eeb69",
   "metadata": {
    "tags": []
   },
   "outputs": [],
   "source": [
    "copy_data['DAY'].fillna(method='ffill',inplace=True)"
   ]
  },
  {
   "cell_type": "code",
   "execution_count": 65,
   "id": "f9ae4aa5-88b9-48b5-b068-b8b826c38086",
   "metadata": {
    "tags": []
   },
   "outputs": [
    {
     "data": {
      "text/plain": [
       "array(['White and gold', nan, 'Blue and black'], dtype=object)"
      ]
     },
     "execution_count": 65,
     "metadata": {},
     "output_type": "execute_result"
    }
   ],
   "source": [
    "copy_data['DRESS'].unique()"
   ]
  },
  {
   "cell_type": "code",
   "execution_count": 66,
   "id": "1ee155c0-911b-440c-bbf2-14daa6bd978d",
   "metadata": {
    "tags": []
   },
   "outputs": [
    {
     "data": {
      "text/plain": [
       "DRESS\n",
       "White and gold    1041\n",
       "Blue and black     606\n",
       "Name: count, dtype: int64"
      ]
     },
     "execution_count": 66,
     "metadata": {},
     "output_type": "execute_result"
    }
   ],
   "source": [
    "copy_data['DRESS'].value_counts()"
   ]
  },
  {
   "cell_type": "code",
   "execution_count": 67,
   "id": "9c431276-61e2-4de7-9206-830400fb9d56",
   "metadata": {
    "tags": []
   },
   "outputs": [],
   "source": [
    "copy_data['DRESS'].fillna(method='bfill',inplace=True)"
   ]
  },
  {
   "cell_type": "code",
   "execution_count": 68,
   "id": "7dd8bd35-0775-4fb5-8c25-46f8839533d7",
   "metadata": {
    "tags": []
   },
   "outputs": [],
   "source": [
    "copy_data.drop(columns='Internal ID',inplace=True)"
   ]
  },
  {
   "cell_type": "code",
   "execution_count": 69,
   "id": "e6e50646-52d7-4f97-b424-b171342a6261",
   "metadata": {
    "tags": []
   },
   "outputs": [],
   "source": [
    "copy_data.drop(columns='Click Coordinates (x, y)',inplace=True)"
   ]
  },
  {
   "cell_type": "code",
   "execution_count": 70,
   "id": "0f4fe6d8-a583-4cd8-9a6d-23a3db9b0c1a",
   "metadata": {
    "tags": []
   },
   "outputs": [
    {
     "data": {
      "text/plain": [
       "Index(['GOING OUT', 'GENDER', 'AGE', 'COUNTRY', 'STATE', '100 Grand Bar',\n",
       "       'Anonymous brown globs that come in black and orange wrappers\\t(a.k.a. Mary Janes)',\n",
       "       'Any full-sized candy bar', 'Black Jacks', 'Bonkers (the candy)',\n",
       "       ...\n",
       "       'Trail Mix', 'Twix',\n",
       "       'Vials of pure high fructose corn syrup, for main-lining into your vein',\n",
       "       'Vicodin', 'Whatchamacallit Bars', 'White Bread',\n",
       "       'Whole Wheat anything', 'York Peppermint Patties', 'DRESS', 'DAY'],\n",
       "      dtype='object', length=110)"
      ]
     },
     "execution_count": 70,
     "metadata": {},
     "output_type": "execute_result"
    }
   ],
   "source": [
    "copy_data.columns"
   ]
  },
  {
   "cell_type": "code",
   "execution_count": 71,
   "id": "811b113a-5956-42d1-9cba-72ec2b9fc74d",
   "metadata": {},
   "outputs": [],
   "source": [
    "df_melt=pd.melt(copy_data,id_vars=['GOING OUT', 'GENDER', 'AGE', 'COUNTRY', 'STATE', 'DRESS', 'DAY'],\n",
    "       var_name='candy_name',value_name='feeling')"
   ]
  },
  {
   "cell_type": "code",
   "execution_count": 72,
   "id": "19e6f7e5-71d5-4a19-9f97-7c2453c974db",
   "metadata": {
    "tags": []
   },
   "outputs": [
    {
     "data": {
      "text/html": [
       "<div>\n",
       "<style scoped>\n",
       "    .dataframe tbody tr th:only-of-type {\n",
       "        vertical-align: middle;\n",
       "    }\n",
       "\n",
       "    .dataframe tbody tr th {\n",
       "        vertical-align: top;\n",
       "    }\n",
       "\n",
       "    .dataframe thead th {\n",
       "        text-align: right;\n",
       "    }\n",
       "</style>\n",
       "<table border=\"1\" class=\"dataframe\">\n",
       "  <thead>\n",
       "    <tr style=\"text-align: right;\">\n",
       "      <th></th>\n",
       "      <th>GOING OUT</th>\n",
       "      <th>GENDER</th>\n",
       "      <th>AGE</th>\n",
       "      <th>COUNTRY</th>\n",
       "      <th>STATE</th>\n",
       "      <th>DRESS</th>\n",
       "      <th>DAY</th>\n",
       "      <th>candy_name</th>\n",
       "      <th>feeling</th>\n",
       "    </tr>\n",
       "  </thead>\n",
       "  <tbody>\n",
       "    <tr>\n",
       "      <th>0</th>\n",
       "      <td>No</td>\n",
       "      <td>Male</td>\n",
       "      <td>44</td>\n",
       "      <td>usa</td>\n",
       "      <td>nm</td>\n",
       "      <td>White and gold</td>\n",
       "      <td>Sunday</td>\n",
       "      <td>100 Grand Bar</td>\n",
       "      <td>MEH</td>\n",
       "    </tr>\n",
       "    <tr>\n",
       "      <th>1</th>\n",
       "      <td>No</td>\n",
       "      <td>Male</td>\n",
       "      <td>49</td>\n",
       "      <td>usa</td>\n",
       "      <td>virginia</td>\n",
       "      <td>White and gold</td>\n",
       "      <td>Sunday</td>\n",
       "      <td>100 Grand Bar</td>\n",
       "      <td>NaN</td>\n",
       "    </tr>\n",
       "    <tr>\n",
       "      <th>2</th>\n",
       "      <td>No</td>\n",
       "      <td>Male</td>\n",
       "      <td>40</td>\n",
       "      <td>usa</td>\n",
       "      <td>or</td>\n",
       "      <td>White and gold</td>\n",
       "      <td>Sunday</td>\n",
       "      <td>100 Grand Bar</td>\n",
       "      <td>MEH</td>\n",
       "    </tr>\n",
       "    <tr>\n",
       "      <th>3</th>\n",
       "      <td>No</td>\n",
       "      <td>Male</td>\n",
       "      <td>23</td>\n",
       "      <td>usa</td>\n",
       "      <td>exton pa</td>\n",
       "      <td>White and gold</td>\n",
       "      <td>Friday</td>\n",
       "      <td>100 Grand Bar</td>\n",
       "      <td>JOY</td>\n",
       "    </tr>\n",
       "    <tr>\n",
       "      <th>4</th>\n",
       "      <td>No</td>\n",
       "      <td>Male</td>\n",
       "      <td>53</td>\n",
       "      <td>usa</td>\n",
       "      <td>colorado</td>\n",
       "      <td>Blue and black</td>\n",
       "      <td>Friday</td>\n",
       "      <td>100 Grand Bar</td>\n",
       "      <td>NaN</td>\n",
       "    </tr>\n",
       "  </tbody>\n",
       "</table>\n",
       "</div>"
      ],
      "text/plain": [
       "  GOING OUT GENDER  AGE COUNTRY     STATE           DRESS     DAY   \n",
       "0        No   Male   44     usa        nm  White and gold  Sunday  \\\n",
       "1        No   Male   49     usa  virginia  White and gold  Sunday   \n",
       "2        No   Male   40     usa        or  White and gold  Sunday   \n",
       "3        No   Male   23     usa  exton pa  White and gold  Friday   \n",
       "4        No   Male   53     usa  colorado  Blue and black  Friday   \n",
       "\n",
       "      candy_name feeling  \n",
       "0  100 Grand Bar     MEH  \n",
       "1  100 Grand Bar     NaN  \n",
       "2  100 Grand Bar     MEH  \n",
       "3  100 Grand Bar     JOY  \n",
       "4  100 Grand Bar     NaN  "
      ]
     },
     "execution_count": 72,
     "metadata": {},
     "output_type": "execute_result"
    }
   ],
   "source": [
    "df_melt.head()"
   ]
  },
  {
   "cell_type": "code",
   "execution_count": 73,
   "id": "411b2a64-b216-47a8-8b85-c5b343df908a",
   "metadata": {
    "tags": []
   },
   "outputs": [
    {
     "name": "stdout",
     "output_type": "stream",
     "text": [
      "<class 'pandas.core.frame.DataFrame'>\n",
      "RangeIndex: 239887 entries, 0 to 239886\n",
      "Data columns (total 9 columns):\n",
      " #   Column      Non-Null Count   Dtype \n",
      "---  ------      --------------   ----- \n",
      " 0   GOING OUT   239887 non-null  object\n",
      " 1   GENDER      239887 non-null  object\n",
      " 2   AGE         239887 non-null  int32 \n",
      " 3   COUNTRY     239887 non-null  object\n",
      " 4   STATE       236076 non-null  object\n",
      " 5   DRESS       239887 non-null  object\n",
      " 6   DAY         239887 non-null  object\n",
      " 7   candy_name  239887 non-null  object\n",
      " 8   feeling     168537 non-null  object\n",
      "dtypes: int32(1), object(8)\n",
      "memory usage: 15.6+ MB\n"
     ]
    }
   ],
   "source": [
    "df_melt.info()"
   ]
  },
  {
   "cell_type": "code",
   "execution_count": 74,
   "id": "7bae35bd-651b-476d-95d9-4ad65212d2a0",
   "metadata": {
    "tags": []
   },
   "outputs": [
    {
     "data": {
      "text/plain": [
       "feeling\n",
       "JOY        61665\n",
       "DESPAIR    55699\n",
       "MEH        51173\n",
       "Name: count, dtype: int64"
      ]
     },
     "execution_count": 74,
     "metadata": {},
     "output_type": "execute_result"
    }
   ],
   "source": [
    "df_melt['feeling'].value_counts()"
   ]
  },
  {
   "cell_type": "code",
   "execution_count": 75,
   "id": "acc5ff2e-36dc-4343-8890-edb801e7c5d5",
   "metadata": {
    "tags": []
   },
   "outputs": [],
   "source": [
    "df_melt['feeling'].fillna('unkown',inplace=True)"
   ]
  },
  {
   "cell_type": "markdown",
   "id": "a8dce464-f5a7-415a-9034-5412681129b8",
   "metadata": {},
   "source": [
    "# EDA"
   ]
  },
  {
   "cell_type": "code",
   "execution_count": 76,
   "id": "497b685e-508f-4ade-af63-cd4b8cf20aca",
   "metadata": {
    "tags": []
   },
   "outputs": [
    {
     "data": {
      "text/html": [
       "<div>\n",
       "<style scoped>\n",
       "    .dataframe tbody tr th:only-of-type {\n",
       "        vertical-align: middle;\n",
       "    }\n",
       "\n",
       "    .dataframe tbody tr th {\n",
       "        vertical-align: top;\n",
       "    }\n",
       "\n",
       "    .dataframe thead th {\n",
       "        text-align: right;\n",
       "    }\n",
       "</style>\n",
       "<table border=\"1\" class=\"dataframe\">\n",
       "  <thead>\n",
       "    <tr style=\"text-align: right;\">\n",
       "      <th></th>\n",
       "      <th>GOING OUT</th>\n",
       "      <th>GENDER</th>\n",
       "      <th>AGE</th>\n",
       "      <th>COUNTRY</th>\n",
       "      <th>STATE</th>\n",
       "      <th>DRESS</th>\n",
       "      <th>DAY</th>\n",
       "      <th>candy_name</th>\n",
       "      <th>feeling</th>\n",
       "    </tr>\n",
       "  </thead>\n",
       "  <tbody>\n",
       "    <tr>\n",
       "      <th>0</th>\n",
       "      <td>No</td>\n",
       "      <td>Male</td>\n",
       "      <td>44</td>\n",
       "      <td>usa</td>\n",
       "      <td>nm</td>\n",
       "      <td>White and gold</td>\n",
       "      <td>Sunday</td>\n",
       "      <td>100 Grand Bar</td>\n",
       "      <td>MEH</td>\n",
       "    </tr>\n",
       "    <tr>\n",
       "      <th>1</th>\n",
       "      <td>No</td>\n",
       "      <td>Male</td>\n",
       "      <td>49</td>\n",
       "      <td>usa</td>\n",
       "      <td>virginia</td>\n",
       "      <td>White and gold</td>\n",
       "      <td>Sunday</td>\n",
       "      <td>100 Grand Bar</td>\n",
       "      <td>unkown</td>\n",
       "    </tr>\n",
       "    <tr>\n",
       "      <th>2</th>\n",
       "      <td>No</td>\n",
       "      <td>Male</td>\n",
       "      <td>40</td>\n",
       "      <td>usa</td>\n",
       "      <td>or</td>\n",
       "      <td>White and gold</td>\n",
       "      <td>Sunday</td>\n",
       "      <td>100 Grand Bar</td>\n",
       "      <td>MEH</td>\n",
       "    </tr>\n",
       "    <tr>\n",
       "      <th>3</th>\n",
       "      <td>No</td>\n",
       "      <td>Male</td>\n",
       "      <td>23</td>\n",
       "      <td>usa</td>\n",
       "      <td>exton pa</td>\n",
       "      <td>White and gold</td>\n",
       "      <td>Friday</td>\n",
       "      <td>100 Grand Bar</td>\n",
       "      <td>JOY</td>\n",
       "    </tr>\n",
       "    <tr>\n",
       "      <th>4</th>\n",
       "      <td>No</td>\n",
       "      <td>Male</td>\n",
       "      <td>53</td>\n",
       "      <td>usa</td>\n",
       "      <td>colorado</td>\n",
       "      <td>Blue and black</td>\n",
       "      <td>Friday</td>\n",
       "      <td>100 Grand Bar</td>\n",
       "      <td>unkown</td>\n",
       "    </tr>\n",
       "  </tbody>\n",
       "</table>\n",
       "</div>"
      ],
      "text/plain": [
       "  GOING OUT GENDER  AGE COUNTRY     STATE           DRESS     DAY   \n",
       "0        No   Male   44     usa        nm  White and gold  Sunday  \\\n",
       "1        No   Male   49     usa  virginia  White and gold  Sunday   \n",
       "2        No   Male   40     usa        or  White and gold  Sunday   \n",
       "3        No   Male   23     usa  exton pa  White and gold  Friday   \n",
       "4        No   Male   53     usa  colorado  Blue and black  Friday   \n",
       "\n",
       "      candy_name feeling  \n",
       "0  100 Grand Bar     MEH  \n",
       "1  100 Grand Bar  unkown  \n",
       "2  100 Grand Bar     MEH  \n",
       "3  100 Grand Bar     JOY  \n",
       "4  100 Grand Bar  unkown  "
      ]
     },
     "execution_count": 76,
     "metadata": {},
     "output_type": "execute_result"
    }
   ],
   "source": [
    "df_melt.head()"
   ]
  },
  {
   "cell_type": "code",
   "execution_count": 77,
   "id": "3c8eb16d-8504-4cc2-829f-92edea2dc851",
   "metadata": {
    "tags": []
   },
   "outputs": [
    {
     "data": {
      "text/plain": [
       "<Axes: xlabel='GENDER', ylabel='count'>"
      ]
     },
     "execution_count": 77,
     "metadata": {},
     "output_type": "execute_result"
    },
    {
     "data": {
      "image/png": "[encoded data removed]",
      "text/plain": [
       "<Figure size 640x480 with 1 Axes>"
      ]
     },
     "metadata": {},
     "output_type": "display_data"
    }
   ],
   "source": [
    "sns.countplot(x=df_melt['GENDER'])"
   ]
  },
  {
   "cell_type": "code",
   "execution_count": 78,
   "id": "f78186db-7960-4a3d-aba1-627378e6adf1",
   "metadata": {
    "tags": []
   },
   "outputs": [
    {
     "data": {
      "text/plain": [
       "<Axes: xlabel='GOING OUT', ylabel='count'>"
      ]
     },
     "execution_count": 78,
     "metadata": {},
     "output_type": "execute_result"
    },
    {
     "data": {
      "image/png": "[encoded data removed]",
      "text/plain": [
       "<Figure size 640x480 with 1 Axes>"
      ]
     },
     "metadata": {},
     "output_type": "display_data"
    }
   ],
   "source": [
    "sns.countplot(x=df_melt['GOING OUT'],hue=df_melt['GENDER'])"
   ]
  },
  {
   "cell_type": "code",
   "execution_count": 79,
   "id": "8a63a3eb-d3bb-4e8a-8ee7-28c6c777fdbb",
   "metadata": {
    "tags": []
   },
   "outputs": [
    {
     "data": {
      "text/plain": [
       "<Axes: ylabel='COUNTRY'>"
      ]
     },
     "execution_count": 79,
     "metadata": {},
     "output_type": "execute_result"
    },
    {
     "data": {
      "image/png": "[encoded data removed]",
      "text/plain": [
       "<Figure size 640x480 with 1 Axes>"
      ]
     },
     "metadata": {},
     "output_type": "display_data"
    }
   ],
   "source": [
    "country=df_melt['COUNTRY'].value_counts().head()\n",
    "sns.barplot(x=country.values,y=country.index)"
   ]
  },
  {
   "cell_type": "code",
   "execution_count": 80,
   "id": "a13b6ba0-9a80-4b28-af22-dd7d9d487b75",
   "metadata": {
    "tags": []
   },
   "outputs": [
    {
     "data": {
      "text/plain": [
       "<Axes: xlabel='DRESS', ylabel='count'>"
      ]
     },
     "execution_count": 80,
     "metadata": {},
     "output_type": "execute_result"
    },
    {
     "data": {
      "image/png": "[encoded data removed]",
      "text/plain": [
       "<Figure size 640x480 with 1 Axes>"
      ]
     },
     "metadata": {},
     "output_type": "display_data"
    }
   ],
   "source": [
    "sns.countplot(x=df_melt['DRESS'],hue=df_melt['GENDER'])"
   ]
  },
  {
   "cell_type": "code",
   "execution_count": 81,
   "id": "2b37f011-cb96-4271-8f27-295df2015af2",
   "metadata": {
    "tags": []
   },
   "outputs": [
    {
     "data": {
      "text/plain": [
       "<Axes: xlabel='DAY', ylabel='count'>"
      ]
     },
     "execution_count": 81,
     "metadata": {},
     "output_type": "execute_result"
    },
    {
     "data": {
      "image/png": "[encoded data removed]",
      "text/plain": [
       "<Figure size 640x480 with 1 Axes>"
      ]
     },
     "metadata": {},
     "output_type": "display_data"
    }
   ],
   "source": [
    "sns.countplot(x=df_melt['DAY'],hue=df_melt['GENDER'])"
   ]
  },
  {
   "cell_type": "code",
   "execution_count": 82,
   "id": "54e1bb6c-3007-4b0e-9a08-092da6698db9",
   "metadata": {
    "tags": []
   },
   "outputs": [],
   "source": [
    "hated_candy=df_melt.groupby('feeling').get_group('DESPAIR')['candy_name'].value_counts().head(7)"
   ]
  },
  {
   "cell_type": "code",
   "execution_count": 83,
   "id": "463c9ae1-7cfd-49e3-bf7e-a8d549decdeb",
   "metadata": {
    "tags": []
   },
   "outputs": [
    {
     "data": {
      "text/plain": [
       "Text(0.5, 1.0, 'the most hated candy')"
      ]
     },
     "execution_count": 83,
     "metadata": {},
     "output_type": "execute_result"
    },
    {
     "data": {
      "image/png": "[encoded data removed]",
      "text/plain": [
       "<Figure size 640x480 with 1 Axes>"
      ]
     },
     "metadata": {},
     "output_type": "display_data"
    }
   ],
   "source": [
    "sns.barplot(x=hated_candy.values,y=hated_candy.index)\n",
    "plt.title('the most hated candy')"
   ]
  },
  {
   "cell_type": "code",
   "execution_count": 84,
   "id": "ce4bca77-8873-4875-aa90-5169712f02b4",
   "metadata": {
    "tags": []
   },
   "outputs": [],
   "source": [
    "loved_candy=df_melt.groupby('feeling').get_group('JOY')['candy_name'].value_counts().head(7)"
   ]
  },
  {
   "cell_type": "code",
   "execution_count": 85,
   "id": "c0c17957-4770-4469-85fc-0664e5d93371",
   "metadata": {
    "tags": []
   },
   "outputs": [
    {
     "data": {
      "text/plain": [
       "Text(0.5, 1.0, 'the most loved candy')"
      ]
     },
     "execution_count": 85,
     "metadata": {},
     "output_type": "execute_result"
    },
    {
     "data": {
      "image/png": "[encoded data removed]",
      "text/plain": [
       "<Figure size 640x480 with 1 Axes>"
      ]
     },
     "metadata": {},
     "output_type": "display_data"
    }
   ],
   "source": [
    "sns.barplot(x=loved_candy.values,y=loved_candy.index)\n",
    "plt.title('the most loved candy')"
   ]
  },
  {
   "cell_type": "code",
   "execution_count": 86,
   "id": "da13d5a5-7a88-496d-abbb-7e38e1517fe8",
   "metadata": {
    "tags": []
   },
   "outputs": [
    {
     "data": {
      "image/png": "[encoded data removed]",
      "text/plain": [
       "<Figure size 1200x1200 with 16 Axes>"
      ]
     },
     "metadata": {},
     "output_type": "display_data"
    }
   ],
   "source": [
    "g=sns.FacetGrid(df_melt,row='feeling',col='GENDER')\n",
    "g=g.map(plt.hist,'AGE')"
   ]
  },
  {
   "cell_type": "markdown",
   "id": "7c9bc8c8-4bf1-4fe5-8e69-0ef906abadd4",
   "metadata": {},
   "source": [
    "## cleaning steps:\n",
    "- checking wrong data types of columns\n",
    "- cheack duplicate data and delete them \n",
    "- check missing values and handle then by deleting , fill them with (mean,mode,other values)\n",
    "- dealing with data recorded with many forms"
   ]
  },
  {
   "cell_type": "code",
   "execution_count": null,
   "id": "ec3fe4a3-0267-4151-a8f2-a93929724f30",
   "metadata": {},
   "outputs": [],
   "source": []
  },
  {
   "cell_type": "code",
   "execution_count": null,
   "id": "1d654cd5-2d06-4014-b707-df5abe334e1e",
   "metadata": {},
   "outputs": [],
   "source": []
  }
 ],
 "metadata": {
  "kernelspec": {
   "display_name": "Python 3 (ipykernel)",
   "language": "python",
   "name": "python3"
  },
  "language_info": {
   "codemirror_mode": {
    "name": "ipython",
    "version": 3
   },
   "file_extension": ".py",
   "mimetype": "text/x-python",
   "name": "python",
   "nbconvert_exporter": "python",
   "pygments_lexer": "ipython3",
   "version": "3.8.2"
  }
 },
 "nbformat": 4,
 "nbformat_minor": 5
}
